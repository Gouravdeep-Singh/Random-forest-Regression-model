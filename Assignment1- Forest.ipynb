{
 "cells": [
  {
   "cell_type": "code",
   "execution_count": 1,
   "id": "9f100052",
   "metadata": {},
   "outputs": [],
   "source": [
    "import pandas as pd\n",
    "import matplotlib.pyplot as mt\n",
    "%matplotlib inline"
   ]
  },
  {
   "cell_type": "code",
   "execution_count": 2,
   "id": "00774d4b",
   "metadata": {},
   "outputs": [
    {
     "data": {
      "text/html": [
       "<div>\n",
       "<style scoped>\n",
       "    .dataframe tbody tr th:only-of-type {\n",
       "        vertical-align: middle;\n",
       "    }\n",
       "\n",
       "    .dataframe tbody tr th {\n",
       "        vertical-align: top;\n",
       "    }\n",
       "\n",
       "    .dataframe thead th {\n",
       "        text-align: right;\n",
       "    }\n",
       "</style>\n",
       "<table border=\"1\" class=\"dataframe\">\n",
       "  <thead>\n",
       "    <tr style=\"text-align: right;\">\n",
       "      <th></th>\n",
       "      <th>District</th>\n",
       "      <th>Grade</th>\n",
       "      <th>Category</th>\n",
       "      <th>Year</th>\n",
       "      <th>Total Days</th>\n",
       "      <th>Days Absent</th>\n",
       "      <th>Days Present</th>\n",
       "      <th>% Attendance</th>\n",
       "      <th># Contributing 10+ Total Days and 1+ Pres Day</th>\n",
       "      <th># Chronically Absent</th>\n",
       "      <th>% Chronically Absent</th>\n",
       "    </tr>\n",
       "  </thead>\n",
       "  <tbody>\n",
       "    <tr>\n",
       "      <th>0</th>\n",
       "      <td>1</td>\n",
       "      <td>All Grades</td>\n",
       "      <td>All Students</td>\n",
       "      <td>2016-17</td>\n",
       "      <td>1946012</td>\n",
       "      <td>161756</td>\n",
       "      <td>1784256</td>\n",
       "      <td>91.7</td>\n",
       "      <td>11942</td>\n",
       "      <td>3123</td>\n",
       "      <td>26.2</td>\n",
       "    </tr>\n",
       "    <tr>\n",
       "      <th>1</th>\n",
       "      <td>1</td>\n",
       "      <td>All Grades</td>\n",
       "      <td>All Students</td>\n",
       "      <td>2017-18</td>\n",
       "      <td>1946527</td>\n",
       "      <td>167998</td>\n",
       "      <td>1778529</td>\n",
       "      <td>91.4</td>\n",
       "      <td>11815</td>\n",
       "      <td>3280</td>\n",
       "      <td>27.8</td>\n",
       "    </tr>\n",
       "    <tr>\n",
       "      <th>2</th>\n",
       "      <td>1</td>\n",
       "      <td>All Grades</td>\n",
       "      <td>All Students</td>\n",
       "      <td>2018-19</td>\n",
       "      <td>1925995</td>\n",
       "      <td>175153</td>\n",
       "      <td>1750842</td>\n",
       "      <td>90.9</td>\n",
       "      <td>11643</td>\n",
       "      <td>3394</td>\n",
       "      <td>29.2</td>\n",
       "    </tr>\n",
       "    <tr>\n",
       "      <th>3</th>\n",
       "      <td>1</td>\n",
       "      <td>All Grades</td>\n",
       "      <td>All Students</td>\n",
       "      <td>2019-20</td>\n",
       "      <td>1244332</td>\n",
       "      <td>112467</td>\n",
       "      <td>1131865</td>\n",
       "      <td>91.0</td>\n",
       "      <td>11418</td>\n",
       "      <td>3188</td>\n",
       "      <td>27.9</td>\n",
       "    </tr>\n",
       "    <tr>\n",
       "      <th>4</th>\n",
       "      <td>1</td>\n",
       "      <td>All Grades</td>\n",
       "      <td>All Students</td>\n",
       "      <td>2020-21</td>\n",
       "      <td>1825555</td>\n",
       "      <td>195624</td>\n",
       "      <td>1629931</td>\n",
       "      <td>89.3</td>\n",
       "      <td>10792</td>\n",
       "      <td>3051</td>\n",
       "      <td>28.3</td>\n",
       "    </tr>\n",
       "  </tbody>\n",
       "</table>\n",
       "</div>"
      ],
      "text/plain": [
       "   District       Grade      Category     Year   Total Days   Days Absent  \\\n",
       "0         1  All Grades  All Students  2016-17      1946012        161756   \n",
       "1         1  All Grades  All Students  2017-18      1946527        167998   \n",
       "2         1  All Grades  All Students  2018-19      1925995        175153   \n",
       "3         1  All Grades  All Students  2019-20      1244332        112467   \n",
       "4         1  All Grades  All Students  2020-21      1825555        195624   \n",
       "\n",
       "    Days Present  % Attendance  # Contributing 10+ Total Days and 1+ Pres Day  \\\n",
       "0        1784256          91.7                                          11942   \n",
       "1        1778529          91.4                                          11815   \n",
       "2        1750842          90.9                                          11643   \n",
       "3        1131865          91.0                                          11418   \n",
       "4        1629931          89.3                                          10792   \n",
       "\n",
       "   # Chronically Absent  % Chronically Absent  \n",
       "0                  3123                  26.2  \n",
       "1                  3280                  27.8  \n",
       "2                  3394                  29.2  \n",
       "3                  3188                  27.9  \n",
       "4                  3051                  28.3  "
      ]
     },
     "execution_count": 2,
     "metadata": {},
     "output_type": "execute_result"
    }
   ],
   "source": [
    "data=pd.read_csv(\"Attendance.csv\")\n",
    "data.head()"
   ]
  },
  {
   "cell_type": "code",
   "execution_count": 3,
   "id": "4a19dafd",
   "metadata": {},
   "outputs": [
    {
     "data": {
      "text/html": [
       "<div>\n",
       "<style scoped>\n",
       "    .dataframe tbody tr th:only-of-type {\n",
       "        vertical-align: middle;\n",
       "    }\n",
       "\n",
       "    .dataframe tbody tr th {\n",
       "        vertical-align: top;\n",
       "    }\n",
       "\n",
       "    .dataframe thead th {\n",
       "        text-align: right;\n",
       "    }\n",
       "</style>\n",
       "<table border=\"1\" class=\"dataframe\">\n",
       "  <thead>\n",
       "    <tr style=\"text-align: right;\">\n",
       "      <th></th>\n",
       "      <th>Total Days</th>\n",
       "      <th>Days Present</th>\n",
       "      <th>Days Absent</th>\n",
       "      <th>% Attendance</th>\n",
       "    </tr>\n",
       "  </thead>\n",
       "  <tbody>\n",
       "    <tr>\n",
       "      <th>0</th>\n",
       "      <td>1946012</td>\n",
       "      <td>1784256</td>\n",
       "      <td>161756</td>\n",
       "      <td>91.7</td>\n",
       "    </tr>\n",
       "    <tr>\n",
       "      <th>1</th>\n",
       "      <td>1946527</td>\n",
       "      <td>1778529</td>\n",
       "      <td>167998</td>\n",
       "      <td>91.4</td>\n",
       "    </tr>\n",
       "    <tr>\n",
       "      <th>2</th>\n",
       "      <td>1925995</td>\n",
       "      <td>1750842</td>\n",
       "      <td>175153</td>\n",
       "      <td>90.9</td>\n",
       "    </tr>\n",
       "    <tr>\n",
       "      <th>3</th>\n",
       "      <td>1244332</td>\n",
       "      <td>1131865</td>\n",
       "      <td>112467</td>\n",
       "      <td>91.0</td>\n",
       "    </tr>\n",
       "    <tr>\n",
       "      <th>4</th>\n",
       "      <td>1825555</td>\n",
       "      <td>1629931</td>\n",
       "      <td>195624</td>\n",
       "      <td>89.3</td>\n",
       "    </tr>\n",
       "    <tr>\n",
       "      <th>...</th>\n",
       "      <td>...</td>\n",
       "      <td>...</td>\n",
       "      <td>...</td>\n",
       "      <td>...</td>\n",
       "    </tr>\n",
       "    <tr>\n",
       "      <th>2470</th>\n",
       "      <td>631646</td>\n",
       "      <td>524725</td>\n",
       "      <td>106921</td>\n",
       "      <td>83.1</td>\n",
       "    </tr>\n",
       "    <tr>\n",
       "      <th>2471</th>\n",
       "      <td>643929</td>\n",
       "      <td>532517</td>\n",
       "      <td>111412</td>\n",
       "      <td>82.7</td>\n",
       "    </tr>\n",
       "    <tr>\n",
       "      <th>2472</th>\n",
       "      <td>670305</td>\n",
       "      <td>556191</td>\n",
       "      <td>114114</td>\n",
       "      <td>83.0</td>\n",
       "    </tr>\n",
       "    <tr>\n",
       "      <th>2473</th>\n",
       "      <td>451059</td>\n",
       "      <td>373077</td>\n",
       "      <td>77982</td>\n",
       "      <td>82.7</td>\n",
       "    </tr>\n",
       "    <tr>\n",
       "      <th>2474</th>\n",
       "      <td>733488</td>\n",
       "      <td>579378</td>\n",
       "      <td>154110</td>\n",
       "      <td>79.0</td>\n",
       "    </tr>\n",
       "  </tbody>\n",
       "</table>\n",
       "<p>2475 rows × 4 columns</p>\n",
       "</div>"
      ],
      "text/plain": [
       "       Total Days   Days Present   Days Absent  % Attendance\n",
       "0         1946012        1784256        161756          91.7\n",
       "1         1946527        1778529        167998          91.4\n",
       "2         1925995        1750842        175153          90.9\n",
       "3         1244332        1131865        112467          91.0\n",
       "4         1825555        1629931        195624          89.3\n",
       "...           ...            ...           ...           ...\n",
       "2470       631646         524725        106921          83.1\n",
       "2471       643929         532517        111412          82.7\n",
       "2472       670305         556191        114114          83.0\n",
       "2473       451059         373077         77982          82.7\n",
       "2474       733488         579378        154110          79.0\n",
       "\n",
       "[2475 rows x 4 columns]"
      ]
     },
     "execution_count": 3,
     "metadata": {},
     "output_type": "execute_result"
    }
   ],
   "source": [
    "data[[\" Total Days\",\" Days Present\",\" Days Absent\",\"% Attendance\"]]"
   ]
  },
  {
   "cell_type": "code",
   "execution_count": 21,
   "id": "290ee349",
   "metadata": {},
   "outputs": [],
   "source": [
    "from sklearn.model_selection import train_test_split\n",
    "from sklearn.ensemble import RandomForestRegressor"
   ]
  },
  {
   "cell_type": "code",
   "execution_count": 28,
   "id": "38aff8c7",
   "metadata": {},
   "outputs": [
    {
     "data": {
      "text/html": [
       "<style>#sk-container-id-4 {color: black;background-color: white;}#sk-container-id-4 pre{padding: 0;}#sk-container-id-4 div.sk-toggleable {background-color: white;}#sk-container-id-4 label.sk-toggleable__label {cursor: pointer;display: block;width: 100%;margin-bottom: 0;padding: 0.3em;box-sizing: border-box;text-align: center;}#sk-container-id-4 label.sk-toggleable__label-arrow:before {content: \"▸\";float: left;margin-right: 0.25em;color: #696969;}#sk-container-id-4 label.sk-toggleable__label-arrow:hover:before {color: black;}#sk-container-id-4 div.sk-estimator:hover label.sk-toggleable__label-arrow:before {color: black;}#sk-container-id-4 div.sk-toggleable__content {max-height: 0;max-width: 0;overflow: hidden;text-align: left;background-color: #f0f8ff;}#sk-container-id-4 div.sk-toggleable__content pre {margin: 0.2em;color: black;border-radius: 0.25em;background-color: #f0f8ff;}#sk-container-id-4 input.sk-toggleable__control:checked~div.sk-toggleable__content {max-height: 200px;max-width: 100%;overflow: auto;}#sk-container-id-4 input.sk-toggleable__control:checked~label.sk-toggleable__label-arrow:before {content: \"▾\";}#sk-container-id-4 div.sk-estimator input.sk-toggleable__control:checked~label.sk-toggleable__label {background-color: #d4ebff;}#sk-container-id-4 div.sk-label input.sk-toggleable__control:checked~label.sk-toggleable__label {background-color: #d4ebff;}#sk-container-id-4 input.sk-hidden--visually {border: 0;clip: rect(1px 1px 1px 1px);clip: rect(1px, 1px, 1px, 1px);height: 1px;margin: -1px;overflow: hidden;padding: 0;position: absolute;width: 1px;}#sk-container-id-4 div.sk-estimator {font-family: monospace;background-color: #f0f8ff;border: 1px dotted black;border-radius: 0.25em;box-sizing: border-box;margin-bottom: 0.5em;}#sk-container-id-4 div.sk-estimator:hover {background-color: #d4ebff;}#sk-container-id-4 div.sk-parallel-item::after {content: \"\";width: 100%;border-bottom: 1px solid gray;flex-grow: 1;}#sk-container-id-4 div.sk-label:hover label.sk-toggleable__label {background-color: #d4ebff;}#sk-container-id-4 div.sk-serial::before {content: \"\";position: absolute;border-left: 1px solid gray;box-sizing: border-box;top: 0;bottom: 0;left: 50%;z-index: 0;}#sk-container-id-4 div.sk-serial {display: flex;flex-direction: column;align-items: center;background-color: white;padding-right: 0.2em;padding-left: 0.2em;position: relative;}#sk-container-id-4 div.sk-item {position: relative;z-index: 1;}#sk-container-id-4 div.sk-parallel {display: flex;align-items: stretch;justify-content: center;background-color: white;position: relative;}#sk-container-id-4 div.sk-item::before, #sk-container-id-4 div.sk-parallel-item::before {content: \"\";position: absolute;border-left: 1px solid gray;box-sizing: border-box;top: 0;bottom: 0;left: 50%;z-index: -1;}#sk-container-id-4 div.sk-parallel-item {display: flex;flex-direction: column;z-index: 1;position: relative;background-color: white;}#sk-container-id-4 div.sk-parallel-item:first-child::after {align-self: flex-end;width: 50%;}#sk-container-id-4 div.sk-parallel-item:last-child::after {align-self: flex-start;width: 50%;}#sk-container-id-4 div.sk-parallel-item:only-child::after {width: 0;}#sk-container-id-4 div.sk-dashed-wrapped {border: 1px dashed gray;margin: 0 0.4em 0.5em 0.4em;box-sizing: border-box;padding-bottom: 0.4em;background-color: white;}#sk-container-id-4 div.sk-label label {font-family: monospace;font-weight: bold;display: inline-block;line-height: 1.2em;}#sk-container-id-4 div.sk-label-container {text-align: center;}#sk-container-id-4 div.sk-container {/* jupyter's `normalize.less` sets `[hidden] { display: none; }` but bootstrap.min.css set `[hidden] { display: none !important; }` so we also need the `!important` here to be able to override the default hidden behavior on the sphinx rendered scikit-learn.org. See: https://github.com/scikit-learn/scikit-learn/issues/21755 */display: inline-block !important;position: relative;}#sk-container-id-4 div.sk-text-repr-fallback {display: none;}</style><div id=\"sk-container-id-4\" class=\"sk-top-container\"><div class=\"sk-text-repr-fallback\"><pre>RandomForestRegressor()</pre><b>In a Jupyter environment, please rerun this cell to show the HTML representation or trust the notebook. <br />On GitHub, the HTML representation is unable to render, please try loading this page with nbviewer.org.</b></div><div class=\"sk-container\" hidden><div class=\"sk-item\"><div class=\"sk-estimator sk-toggleable\"><input class=\"sk-toggleable__control sk-hidden--visually\" id=\"sk-estimator-id-4\" type=\"checkbox\" checked><label for=\"sk-estimator-id-4\" class=\"sk-toggleable__label sk-toggleable__label-arrow\">RandomForestRegressor</label><div class=\"sk-toggleable__content\"><pre>RandomForestRegressor()</pre></div></div></div></div></div>"
      ],
      "text/plain": [
       "RandomForestRegressor()"
      ]
     },
     "execution_count": 28,
     "metadata": {},
     "output_type": "execute_result"
    }
   ],
   "source": [
    "model=RandomForestRegressor()\n",
    "x=data[[\" Total Days\",\" Days Present\",\" Days Absent\"]]\n",
    "y=data[\"% Attendance\"]\n",
    "x_train,x_test,y_train,y_test=train_test_split(x,y,test_size=0.2)\n",
    "model.fit(x_train,y_train)"
   ]
  },
  {
   "cell_type": "code",
   "execution_count": 42,
   "id": "cce00eb5",
   "metadata": {},
   "outputs": [
    {
     "name": "stdout",
     "output_type": "stream",
     "text": [
      "[93.318 91.612 91.526 96.767 90.849 87.271 84.834 81.854 90.269 93.392\n",
      " 91.989 90.073 91.785 84.876 93.574 94.274 82.738 86.009 87.443 94.123\n",
      " 92.919 91.35  93.609 91.592 96.202 92.844 90.095 89.188 90.263 90.859\n",
      " 91.576 91.067 91.199 90.895 95.892 96.28  92.634 82.271 88.572 92.582\n",
      " 82.692 92.93  91.929 91.46  83.185 90.697 90.853 92.154 93.223 88.466\n",
      " 96.358 90.958 88.396 92.676 93.755 88.819 88.378 90.554 80.421 92.706\n",
      " 91.706 90.285 85.166 93.085 87.996 85.855 92.598 91.91  85.776 96.645\n",
      " 91.891 90.75  95.8   82.35  90.409 92.889 92.574 94.735 93.834 92.527\n",
      " 93.506 88.726 88.884 81.83  91.798 90.84  89.898 90.695 94.386 90.09\n",
      " 96.09  91.052 92.413 95.313 94.32  92.805 83.076 87.986 91.534 82.764\n",
      " 86.404 93.355 93.454 95.589 95.634 91.199 91.503 92.462 91.518 91.545\n",
      " 95.209 93.749 92.063 81.549 87.351 85.657 93.099 93.699 90.376 80.618\n",
      " 78.116 83.158 91.007 91.491 94.745 88.106 90.348 93.926 93.202 89.776\n",
      " 92.907 95.435 93.95  89.085 93.57  92.829 87.695 92.306 93.457 89.92\n",
      " 92.421 95.849 90.551 91.991 92.258 93.553 90.712 93.04  91.917 95.334\n",
      " 88.58  91.949 90.55  91.526 81.762 92.332 92.105 90.042 92.643 91.896\n",
      " 89.743 90.341 90.245 92.108 92.302 87.603 86.1   82.297 92.241 90.628\n",
      " 93.177 91.969 93.186 88.575 93.324 91.343 90.211 82.258 91.914 86.043\n",
      " 94.022 92.564 94.171 92.254 85.972 87.163 90.565 94.388 88.626 92.669\n",
      " 87.714 91.283 79.289 82.543 93.68  90.4   87.597 94.192 92.803 91.535\n",
      " 92.352 89.53  91.141 93.872 95.515 83.889 94.052 93.192 90.028 92.013\n",
      " 90.621 82.732 90.054 87.288 93.406 88.04  93.584 89.405 80.978 78.551\n",
      " 96.066 85.117 92.638 79.897 94.38  88.55  94.042 91.052 94.128 89.691\n",
      " 97.097 88.728 90.855 74.234 93.097 87.777 85.079 91.565 90.902 87.999\n",
      " 90.427 91.134 85.875 90.142 91.452 94.115 94.619 93.238 83.662 92.305\n",
      " 89.978 92.796 86.3   88.368 95.567 93.091 87.619 89.145 82.989 90.409\n",
      " 89.987 94.014 85.138 95.829 93.002 90.286 84.432 85.463 91.905 91.85\n",
      " 89.454 96.687 90.105 87.504 94.697 93.899 92.641 95.815 94.684 92.678\n",
      " 89.4   86.325 93.344 91.42  87.61  91.325 91.39  93.066 92.234 94.015\n",
      " 88.726 90.966 96.392 90.403 91.446 85.002 87.861 85.781 88.098 90.416\n",
      " 89.693 92.048 92.25  86.403 90.788 92.243 90.309 92.971 95.4   89.612\n",
      " 92.294 85.438 78.766 91.143 88.917 88.191 85.152 83.312 94.095 89.757\n",
      " 90.169 93.584 84.594 89.106 91.115 79.324 91.84  91.213 94.492 92.66\n",
      " 85.923 89.424 82.46  92.285 95.387 83.787 91.308 94.758 90.277 93.604\n",
      " 92.676 92.171 84.147 88.91  84.28  84.398 95.333 82.525 85.371 93.905\n",
      " 93.82  88.467 91.693 85.378 94.151 90.904 88.638 93.226 79.336 92.995\n",
      " 93.583 95.101 91.503 94.607 93.506 91.484 96.518 90.483 92.78  89.237\n",
      " 81.471 81.404 94.933 92.955 91.032 90.997 91.007 93.457 92.127 90.482\n",
      " 93.464 88.983 95.547 87.34  95.3   95.408 89.943 91.581 91.979 92.532\n",
      " 93.213 93.215 96.471 89.183 92.82  89.971 89.039 90.643 90.45  91.816\n",
      " 91.644 92.235 92.75  81.666 93.616 85.697 88.973 91.296 92.122 88.694\n",
      " 95.367 81.77  93.455 92.386 90.533 90.287 90.034 92.442 85.33  84.86\n",
      " 93.529 96.439 87.156 96.492 88.333 92.157 89.973 91.595 85.137 89.965\n",
      " 96.004 88.192 88.435 80.118 85.719 91.07  84.495 88.252 82.93  88.052\n",
      " 90.947 83.667 90.56  90.8   93.184 88.922 86.748 87.923 85.119 93.247\n",
      " 91.474 84.916 96.399 93.664 89.454 92.915 90.565 90.413 91.923 93.567\n",
      " 85.012 96.191 85.991 92.355 79.666 93.418 94.792 93.316 96.061 93.727\n",
      " 95.087 85.93  90.612 96.435 90.846 92.686 91.093 81.99  89.766 92.923\n",
      " 91.152 92.045 90.521 89.656 94.627 83.392 91.464 93.47  85.479 93.673\n",
      " 91.608 79.692 88.804 88.183 90.624]\n"
     ]
    }
   ],
   "source": [
    "y_pred=model.predict(x_test)\n",
    "print(y_pred)"
   ]
  },
  {
   "cell_type": "code",
   "execution_count": 43,
   "id": "8624d2cc",
   "metadata": {},
   "outputs": [],
   "source": [
    "from sklearn.metrics import mean_absolute_error, mean_squared_error"
   ]
  },
  {
   "cell_type": "code",
   "execution_count": 48,
   "id": "e97a638c",
   "metadata": {},
   "outputs": [
    {
     "data": {
      "text/plain": [
       "0.9844406866059486"
      ]
     },
     "execution_count": 48,
     "metadata": {},
     "output_type": "execute_result"
    }
   ],
   "source": [
    "model.score(x_test,y_test)"
   ]
  },
  {
   "cell_type": "code",
   "execution_count": 47,
   "id": "69c1711a",
   "metadata": {},
   "outputs": [
    {
     "name": "stdout",
     "output_type": "stream",
     "text": [
      "0.2209494949494948\n",
      "0.267114452525253\n"
     ]
    }
   ],
   "source": [
    "meanabsolute=mean_absolute_error(y_test,y_pred)\n",
    "print(meanabsolute)\n",
    "meansquared=mean_squared_error(y_test,y_pred)\n",
    "print(meansquared)"
   ]
  },
  {
   "cell_type": "code",
   "execution_count": null,
   "id": "0ae3695d",
   "metadata": {},
   "outputs": [],
   "source": []
  }
 ],
 "metadata": {
  "kernelspec": {
   "display_name": "Python 3 (ipykernel)",
   "language": "python",
   "name": "python3"
  },
  "language_info": {
   "codemirror_mode": {
    "name": "ipython",
    "version": 3
   },
   "file_extension": ".py",
   "mimetype": "text/x-python",
   "name": "python",
   "nbconvert_exporter": "python",
   "pygments_lexer": "ipython3",
   "version": "3.9.0"
  }
 },
 "nbformat": 4,
 "nbformat_minor": 5
}
